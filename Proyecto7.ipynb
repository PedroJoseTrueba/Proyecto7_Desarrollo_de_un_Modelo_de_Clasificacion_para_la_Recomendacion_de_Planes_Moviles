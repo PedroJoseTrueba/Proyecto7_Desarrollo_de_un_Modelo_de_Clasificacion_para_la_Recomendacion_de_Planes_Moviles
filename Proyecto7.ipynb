{
 "cells": [
  {
   "cell_type": "markdown",
   "metadata": {},
   "source": [
    "# Desarrollo de un Modelo de Clasificación para la Recomendación de Planes Móviles de Megaline"
   ]
  },
  {
   "cell_type": "markdown",
   "metadata": {},
   "source": [
    "## Descripción del proyecto\n",
    "\n",
    "La compañía móvil Megaline no está satisfecha al ver que muchos de sus clientes utilizan planes heredados. Quieren desarrollar un modelo que pueda analizar el comportamiento de los clientes y recomendar uno de los nuevos planes de Megaline: Smart o Ultra.\n",
    "\n",
    "Tenemos acceso a los datos de comportamiento de los suscriptores que ya se han cambiado a los planes nuevos . Para esta tarea de clasificación, se debe crear un modelo que escoja el plan correcto. Como los datos ya están procesados, se puede proceder directamente a la creación del modelo.\n",
    "\n",
    "El objetivo es desarrollar un modelo con la mayor exactitud posible. En este proyecto, el umbral de exactitud es 0.75. Se utilizará el dataset para comprobar la exactitud del modelo."
   ]
  },
  {
   "cell_type": "markdown",
   "metadata": {},
   "source": [
    "## Diccionario de datos:\n",
    "\n",
    "Cada observación en el dataset contiene información del comportamiento mensual sobre un usuario. \n",
    "\n",
    "\n",
    "La información dada es la siguiente:\n",
    "\n",
    "`сalls` — número de llamadas\n",
    "\n",
    "`minutes` — duración total de la llamada en minutos\n",
    "\n",
    "`messages` — número de mensajes de texto\n",
    "\n",
    "`mb_used` — Tráfico de Internet utilizado en MB\n",
    "\n",
    "`is_ultra` — plan para el mes actual (Ultra - 1, Smart - 0)"
   ]
  },
  {
   "cell_type": "markdown",
   "metadata": {},
   "source": [
    "## Exploración y Análisis del Archivo de Datos"
   ]
  },
  {
   "cell_type": "code",
   "execution_count": 17,
   "metadata": {},
   "outputs": [],
   "source": [
    "#Importar librerías\n",
    "\n",
    "import pandas as pd\n",
    "import numpy as np\n",
    "from sklearn.model_selection import train_test_split\n",
    "from sklearn.tree import DecisionTreeClassifier\n",
    "from sklearn.linear_model import LogisticRegression\n",
    "from sklearn.ensemble import RandomForestClassifier\n",
    "from sklearn.metrics import accuracy_score, precision_score, recall_score, f1_score, confusion_matrix\n",
    "from sklearn.dummy import DummyClassifier"
   ]
  },
  {
   "cell_type": "code",
   "execution_count": 18,
   "metadata": {},
   "outputs": [],
   "source": [
    "# leer el conjunto de datos en un DataFrame\n",
    "df = pd.read_csv(\"users_behavior.csv\")"
   ]
  },
  {
   "cell_type": "code",
   "execution_count": 19,
   "metadata": {},
   "outputs": [
    {
     "data": {
      "text/html": [
       "<div>\n",
       "<style scoped>\n",
       "    .dataframe tbody tr th:only-of-type {\n",
       "        vertical-align: middle;\n",
       "    }\n",
       "\n",
       "    .dataframe tbody tr th {\n",
       "        vertical-align: top;\n",
       "    }\n",
       "\n",
       "    .dataframe thead th {\n",
       "        text-align: right;\n",
       "    }\n",
       "</style>\n",
       "<table border=\"1\" class=\"dataframe\">\n",
       "  <thead>\n",
       "    <tr style=\"text-align: right;\">\n",
       "      <th></th>\n",
       "      <th>calls</th>\n",
       "      <th>minutes</th>\n",
       "      <th>messages</th>\n",
       "      <th>mb_used</th>\n",
       "      <th>is_ultra</th>\n",
       "    </tr>\n",
       "  </thead>\n",
       "  <tbody>\n",
       "    <tr>\n",
       "      <th>867</th>\n",
       "      <td>44.0</td>\n",
       "      <td>338.16</td>\n",
       "      <td>18.0</td>\n",
       "      <td>5051.83</td>\n",
       "      <td>0</td>\n",
       "    </tr>\n",
       "    <tr>\n",
       "      <th>2061</th>\n",
       "      <td>66.0</td>\n",
       "      <td>478.48</td>\n",
       "      <td>0.0</td>\n",
       "      <td>16962.58</td>\n",
       "      <td>0</td>\n",
       "    </tr>\n",
       "    <tr>\n",
       "      <th>2136</th>\n",
       "      <td>110.0</td>\n",
       "      <td>794.03</td>\n",
       "      <td>122.0</td>\n",
       "      <td>17415.30</td>\n",
       "      <td>1</td>\n",
       "    </tr>\n",
       "    <tr>\n",
       "      <th>1492</th>\n",
       "      <td>81.0</td>\n",
       "      <td>658.49</td>\n",
       "      <td>45.0</td>\n",
       "      <td>14999.44</td>\n",
       "      <td>0</td>\n",
       "    </tr>\n",
       "    <tr>\n",
       "      <th>841</th>\n",
       "      <td>59.0</td>\n",
       "      <td>371.10</td>\n",
       "      <td>0.0</td>\n",
       "      <td>14647.95</td>\n",
       "      <td>0</td>\n",
       "    </tr>\n",
       "    <tr>\n",
       "      <th>563</th>\n",
       "      <td>33.0</td>\n",
       "      <td>164.87</td>\n",
       "      <td>26.0</td>\n",
       "      <td>6290.25</td>\n",
       "      <td>0</td>\n",
       "    </tr>\n",
       "    <tr>\n",
       "      <th>1864</th>\n",
       "      <td>17.0</td>\n",
       "      <td>121.61</td>\n",
       "      <td>48.0</td>\n",
       "      <td>28895.09</td>\n",
       "      <td>1</td>\n",
       "    </tr>\n",
       "    <tr>\n",
       "      <th>162</th>\n",
       "      <td>58.0</td>\n",
       "      <td>452.14</td>\n",
       "      <td>57.0</td>\n",
       "      <td>14568.93</td>\n",
       "      <td>1</td>\n",
       "    </tr>\n",
       "    <tr>\n",
       "      <th>2474</th>\n",
       "      <td>78.0</td>\n",
       "      <td>491.15</td>\n",
       "      <td>26.0</td>\n",
       "      <td>7497.19</td>\n",
       "      <td>1</td>\n",
       "    </tr>\n",
       "    <tr>\n",
       "      <th>1078</th>\n",
       "      <td>91.0</td>\n",
       "      <td>604.39</td>\n",
       "      <td>19.0</td>\n",
       "      <td>25152.82</td>\n",
       "      <td>1</td>\n",
       "    </tr>\n",
       "  </tbody>\n",
       "</table>\n",
       "</div>"
      ],
      "text/plain": [
       "      calls  minutes  messages   mb_used  is_ultra\n",
       "867    44.0   338.16      18.0   5051.83         0\n",
       "2061   66.0   478.48       0.0  16962.58         0\n",
       "2136  110.0   794.03     122.0  17415.30         1\n",
       "1492   81.0   658.49      45.0  14999.44         0\n",
       "841    59.0   371.10       0.0  14647.95         0\n",
       "563    33.0   164.87      26.0   6290.25         0\n",
       "1864   17.0   121.61      48.0  28895.09         1\n",
       "162    58.0   452.14      57.0  14568.93         1\n",
       "2474   78.0   491.15      26.0   7497.19         1\n",
       "1078   91.0   604.39      19.0  25152.82         1"
      ]
     },
     "execution_count": 19,
     "metadata": {},
     "output_type": "execute_result"
    }
   ],
   "source": [
    "df.sample(10)"
   ]
  },
  {
   "cell_type": "code",
   "execution_count": 20,
   "metadata": {},
   "outputs": [
    {
     "name": "stdout",
     "output_type": "stream",
     "text": [
      "<class 'pandas.core.frame.DataFrame'>\n",
      "RangeIndex: 3214 entries, 0 to 3213\n",
      "Data columns (total 5 columns):\n",
      " #   Column    Non-Null Count  Dtype  \n",
      "---  ------    --------------  -----  \n",
      " 0   calls     3214 non-null   float64\n",
      " 1   minutes   3214 non-null   float64\n",
      " 2   messages  3214 non-null   float64\n",
      " 3   mb_used   3214 non-null   float64\n",
      " 4   is_ultra  3214 non-null   int64  \n",
      "dtypes: float64(4), int64(1)\n",
      "memory usage: 125.7 KB\n"
     ]
    }
   ],
   "source": [
    "df.info()"
   ]
  },
  {
   "cell_type": "code",
   "execution_count": 21,
   "metadata": {},
   "outputs": [
    {
     "data": {
      "text/html": [
       "<div>\n",
       "<style scoped>\n",
       "    .dataframe tbody tr th:only-of-type {\n",
       "        vertical-align: middle;\n",
       "    }\n",
       "\n",
       "    .dataframe tbody tr th {\n",
       "        vertical-align: top;\n",
       "    }\n",
       "\n",
       "    .dataframe thead th {\n",
       "        text-align: right;\n",
       "    }\n",
       "</style>\n",
       "<table border=\"1\" class=\"dataframe\">\n",
       "  <thead>\n",
       "    <tr style=\"text-align: right;\">\n",
       "      <th></th>\n",
       "      <th>calls</th>\n",
       "      <th>minutes</th>\n",
       "      <th>messages</th>\n",
       "      <th>mb_used</th>\n",
       "      <th>is_ultra</th>\n",
       "    </tr>\n",
       "  </thead>\n",
       "  <tbody>\n",
       "    <tr>\n",
       "      <th>count</th>\n",
       "      <td>3214.000000</td>\n",
       "      <td>3214.000000</td>\n",
       "      <td>3214.000000</td>\n",
       "      <td>3214.000000</td>\n",
       "      <td>3214.000000</td>\n",
       "    </tr>\n",
       "    <tr>\n",
       "      <th>mean</th>\n",
       "      <td>63.038892</td>\n",
       "      <td>438.208787</td>\n",
       "      <td>38.281269</td>\n",
       "      <td>17207.673836</td>\n",
       "      <td>0.306472</td>\n",
       "    </tr>\n",
       "    <tr>\n",
       "      <th>std</th>\n",
       "      <td>33.236368</td>\n",
       "      <td>234.569872</td>\n",
       "      <td>36.148326</td>\n",
       "      <td>7570.968246</td>\n",
       "      <td>0.461100</td>\n",
       "    </tr>\n",
       "    <tr>\n",
       "      <th>min</th>\n",
       "      <td>0.000000</td>\n",
       "      <td>0.000000</td>\n",
       "      <td>0.000000</td>\n",
       "      <td>0.000000</td>\n",
       "      <td>0.000000</td>\n",
       "    </tr>\n",
       "    <tr>\n",
       "      <th>25%</th>\n",
       "      <td>40.000000</td>\n",
       "      <td>274.575000</td>\n",
       "      <td>9.000000</td>\n",
       "      <td>12491.902500</td>\n",
       "      <td>0.000000</td>\n",
       "    </tr>\n",
       "    <tr>\n",
       "      <th>50%</th>\n",
       "      <td>62.000000</td>\n",
       "      <td>430.600000</td>\n",
       "      <td>30.000000</td>\n",
       "      <td>16943.235000</td>\n",
       "      <td>0.000000</td>\n",
       "    </tr>\n",
       "    <tr>\n",
       "      <th>75%</th>\n",
       "      <td>82.000000</td>\n",
       "      <td>571.927500</td>\n",
       "      <td>57.000000</td>\n",
       "      <td>21424.700000</td>\n",
       "      <td>1.000000</td>\n",
       "    </tr>\n",
       "    <tr>\n",
       "      <th>max</th>\n",
       "      <td>244.000000</td>\n",
       "      <td>1632.060000</td>\n",
       "      <td>224.000000</td>\n",
       "      <td>49745.730000</td>\n",
       "      <td>1.000000</td>\n",
       "    </tr>\n",
       "  </tbody>\n",
       "</table>\n",
       "</div>"
      ],
      "text/plain": [
       "             calls      minutes     messages       mb_used     is_ultra\n",
       "count  3214.000000  3214.000000  3214.000000   3214.000000  3214.000000\n",
       "mean     63.038892   438.208787    38.281269  17207.673836     0.306472\n",
       "std      33.236368   234.569872    36.148326   7570.968246     0.461100\n",
       "min       0.000000     0.000000     0.000000      0.000000     0.000000\n",
       "25%      40.000000   274.575000     9.000000  12491.902500     0.000000\n",
       "50%      62.000000   430.600000    30.000000  16943.235000     0.000000\n",
       "75%      82.000000   571.927500    57.000000  21424.700000     1.000000\n",
       "max     244.000000  1632.060000   224.000000  49745.730000     1.000000"
      ]
     },
     "execution_count": 21,
     "metadata": {},
     "output_type": "execute_result"
    }
   ],
   "source": [
    "df.describe()"
   ]
  },
  {
   "cell_type": "markdown",
   "metadata": {},
   "source": [
    " ## Segmentación de los Datos en Conjuntos de Entrenamiento, Validación y Prueba"
   ]
  },
  {
   "cell_type": "code",
   "execution_count": 4,
   "metadata": {},
   "outputs": [],
   "source": [
    "# Separación de características y objetivo\n",
    "features = df.drop(['is_ultra'], axis=1)\n",
    "target = df['is_ultra']"
   ]
  },
  {
   "cell_type": "code",
   "execution_count": 5,
   "metadata": {},
   "outputs": [],
   "source": [
    "# Primer split: entrenamiento (60%) y validación + prueba (40%)\n",
    "df_train, df_temp = train_test_split(df, test_size=0.40, random_state=54321)\n",
    "\n",
    "# Segundo split: validación (50% de 40% = 20%) y prueba (50% de 40% = 20%)\n",
    "df_valid, df_test = train_test_split(df_temp, test_size=0.50, random_state=54321)"
   ]
  },
  {
   "cell_type": "code",
   "execution_count": 6,
   "metadata": {},
   "outputs": [],
   "source": [
    "# Separación de características y objetivo\n",
    "\n",
    "features_train = df_train.drop(['is_ultra'], axis=1)\n",
    "\n",
    "target_train = df_train['is_ultra']\n",
    "\n",
    "features_valid = df_valid.drop(['is_ultra'], axis=1)\n",
    "\n",
    "target_valid = df_valid['is_ultra']\n",
    "\n",
    "features_test = df_test.drop(['is_ultra'], axis=1)\n",
    "\n",
    "target_test = df_test['is_ultra']\n"
   ]
  },
  {
   "cell_type": "markdown",
   "metadata": {},
   "source": [
    "## Evaluación de Modelos y Ajuste de Hiperparámetros"
   ]
  },
  {
   "cell_type": "markdown",
   "metadata": {},
   "source": [
    "### Análisis del Modelo de Árbol de Decisión"
   ]
  },
  {
   "cell_type": "code",
   "execution_count": 7,
   "metadata": {},
   "outputs": [
    {
     "name": "stdout",
     "output_type": "stream",
     "text": [
      "Errores connunto de entrenamiento: 4\n",
      "Errores conjunto de validación: 179\n",
      "Errores conjunto de prueba: 162\n"
     ]
    }
   ],
   "source": [
    "# Inicialización del modelo de clasificación de árbol de decisión\n",
    "model_decision_tree = DecisionTreeClassifier(random_state=12345)\n",
    "\n",
    "# Entrenamiento del modelo en el conjunto de entrenamiento\n",
    "model_decision_tree.fit(features_train, target_train)\n",
    "\n",
    "# Obtención de predicciones en el conjunto de entrenamiento\n",
    "train_predictions = model_decision_tree.predict(features_train)\n",
    "\n",
    "# Obtención de predicciones en el conjunto de validación\n",
    "valid_predictions = model_decision_tree.predict(features_valid)\n",
    "\n",
    "# Obtención de predicciones en el conjunto de prueba\n",
    "test_predictions = model_decision_tree.predict(features_test)\n",
    "\n",
    "\n",
    "\n",
    "\n",
    "# Función para contar errores\n",
    "def error_count(answers, predictions):\n",
    "    contador = 0\n",
    "    for pred, target in zip(predictions, answers):\n",
    "        if pred != target:\n",
    "            contador += 1\n",
    "    return contador\n",
    "\n",
    "# Impresión del número de errores en el conjunto de prueba\n",
    "print('Errores connunto de entrenamiento:', error_count(features_train, train_predictions))\n",
    "# Impresión del número de errores en el conjunto de prueba\n",
    "print('Errores conjunto de validación:', error_count(target_valid, valid_predictions))\n",
    "# Impresión del número de errores en el conjunto de prueba\n",
    "print('Errores conjunto de prueba:', error_count(target_test, test_predictions))"
   ]
  },
  {
   "cell_type": "code",
   "execution_count": 8,
   "metadata": {},
   "outputs": [
    {
     "name": "stdout",
     "output_type": "stream",
     "text": [
      "Exactitud de max_depth igual a 1\n",
      "Conjunto de entrenamiento: 0.7531120331950207\n",
      "Conjunto de validación: 0.7216174183514774\n",
      "Conjunto de prueba: 0.7822706065318819\n",
      "\n",
      "Exactitud de max_depth igual a 2\n",
      "Conjunto de entrenamiento: 0.7826763485477178\n",
      "Conjunto de validación: 0.7542768273716952\n",
      "Conjunto de prueba: 0.8180404354587869\n",
      "\n",
      "Exactitud de max_depth igual a 3\n",
      "Conjunto de entrenamiento: 0.7966804979253111\n",
      "Conjunto de validación: 0.776049766718507\n",
      "Conjunto de prueba: 0.8242612752721618\n",
      "\n",
      "Exactitud de max_depth igual a 4\n",
      "Conjunto de entrenamiento: 0.8023858921161826\n",
      "Conjunto de validación: 0.7667185069984448\n",
      "Conjunto de prueba: 0.8258164852255054\n",
      "\n",
      "Exactitud de max_depth igual a 5\n",
      "Conjunto de entrenamiento: 0.8143153526970954\n",
      "Conjunto de validación: 0.8164852255054432\n",
      "Conjunto de prueba: 0.8258164852255054\n",
      "\n",
      "Exactitud de max_depth igual a 6\n",
      "Conjunto de entrenamiento: 0.8267634854771784\n",
      "Conjunto de validación: 0.8118195956454122\n",
      "Conjunto de prueba: 0.8444790046656299\n",
      "\n",
      "Exactitud de max_depth igual a 7\n",
      "Conjunto de entrenamiento: 0.8433609958506224\n",
      "Conjunto de validación: 0.8227060653188181\n",
      "Conjunto de prueba: 0.8460342146189735\n",
      "\n",
      "Exactitud de max_depth igual a 8\n",
      "Conjunto de entrenamiento: 0.8568464730290456\n",
      "Conjunto de validación: 0.8367029548989113\n",
      "Conjunto de prueba: 0.8678071539657853\n",
      "\n",
      "Exactitud de max_depth igual a 9\n",
      "Conjunto de entrenamiento: 0.8672199170124482\n",
      "Conjunto de validación: 0.8398133748055988\n",
      "Conjunto de prueba: 0.8771384136858476\n",
      "\n",
      "Exactitud de max_depth igual a 10\n",
      "Conjunto de entrenamiento: 0.875\n",
      "Conjunto de validación: 0.8475894245723172\n",
      "Conjunto de prueba: 0.8880248833592534\n",
      "\n",
      "Exactitud de max_depth igual a 11\n",
      "Conjunto de entrenamiento: 0.8874481327800829\n",
      "Conjunto de validación: 0.8678071539657853\n",
      "Conjunto de prueba: 0.8973561430793157\n",
      "\n",
      "Exactitud de max_depth igual a 12\n",
      "Conjunto de entrenamiento: 0.895746887966805\n",
      "Conjunto de validación: 0.8864696734059098\n",
      "Conjunto de prueba: 0.9066874027993779\n",
      "\n",
      "Exactitud de max_depth igual a 13\n",
      "Conjunto de entrenamiento: 0.908195020746888\n",
      "Conjunto de validación: 0.895800933125972\n",
      "Conjunto de prueba: 0.9160186625194401\n",
      "\n",
      "Exactitud de max_depth igual a 14\n",
      "Conjunto de entrenamiento: 0.9185684647302904\n",
      "Conjunto de validación: 0.9097978227060654\n",
      "Conjunto de prueba: 0.9284603421461898\n",
      "\n",
      "Exactitud de max_depth igual a 15\n",
      "Conjunto de entrenamiento: 0.9294605809128631\n",
      "Conjunto de validación: 0.9284603421461898\n",
      "Conjunto de prueba: 0.9393468118195957\n",
      "\n",
      "Exactitud de max_depth igual a 16\n",
      "Conjunto de entrenamiento: 0.941908713692946\n",
      "Conjunto de validación: 0.9455676516329704\n",
      "Conjunto de prueba: 0.9548989113530326\n",
      "\n",
      "Exactitud de max_depth igual a 17\n",
      "Conjunto de entrenamiento: 0.95798755186722\n",
      "Conjunto de validación: 0.9673405909797823\n",
      "Conjunto de prueba: 0.9580093312597201\n",
      "\n",
      "Exactitud de max_depth igual a 18\n",
      "Conjunto de entrenamiento: 0.9719917012448133\n",
      "Conjunto de validación: 0.9782270606531882\n",
      "Conjunto de prueba: 0.9642301710730948\n",
      "\n",
      "Exactitud de max_depth igual a 19\n",
      "Conjunto de entrenamiento: 0.983402489626556\n",
      "Conjunto de validación: 0.9875583203732504\n",
      "Conjunto de prueba: 0.9720062208398134\n",
      "\n",
      "Exactitud de max_depth igual a 20\n",
      "Conjunto de entrenamiento: 0.9865145228215768\n",
      "Conjunto de validación: 0.9922239502332815\n",
      "Conjunto de prueba: 0.9813374805598756\n",
      "\n",
      "Exactitud de max_depth igual a 21\n",
      "Conjunto de entrenamiento: 0.9901452282157677\n",
      "Conjunto de validación: 0.9968895800933126\n",
      "Conjunto de prueba: 0.9891135303265941\n",
      "\n",
      "Exactitud de max_depth igual a 22\n",
      "Conjunto de entrenamiento: 0.9948132780082988\n",
      "Conjunto de validación: 0.9984447900466563\n",
      "Conjunto de prueba: 0.9922239502332815\n",
      "\n",
      "Exactitud de max_depth igual a 23\n",
      "Conjunto de entrenamiento: 0.995850622406639\n",
      "Conjunto de validación: 0.9968895800933126\n",
      "Conjunto de prueba: 1.0\n",
      "\n",
      "Exactitud de max_depth igual a 24\n",
      "Conjunto de entrenamiento: 0.9979253112033195\n",
      "Conjunto de validación: 0.9984447900466563\n",
      "Conjunto de prueba: 1.0\n",
      "\n",
      "Exactitud de max_depth igual a 25\n",
      "Conjunto de entrenamiento: 0.9979253112033195\n",
      "Conjunto de validación: 0.9984447900466563\n",
      "Conjunto de prueba: 1.0\n",
      "\n",
      "Exactitud de max_depth igual a 26\n",
      "Conjunto de entrenamiento: 0.9989626556016598\n",
      "Conjunto de validación: 1.0\n",
      "Conjunto de prueba: 1.0\n",
      "\n",
      "Exactitud de max_depth igual a 27\n",
      "Conjunto de entrenamiento: 0.9994813278008299\n",
      "Conjunto de validación: 1.0\n",
      "Conjunto de prueba: 1.0\n",
      "\n",
      "Exactitud de max_depth igual a 28\n",
      "Conjunto de entrenamiento: 1.0\n",
      "Conjunto de validación: 1.0\n",
      "Conjunto de prueba: 1.0\n",
      "\n"
     ]
    }
   ],
   "source": [
    "# Obtener la exactitud para un valor distinto del hiperparámetro max_depth en los distintos conjuntos de datos\n",
    "for depth in range(1, 29):\n",
    "    model_decision_tree = DecisionTreeClassifier(max_depth=depth, random_state=12345)\n",
    "    model_decision_tree.fit(features, target)\n",
    "    train_predictions = model_decision_tree.predict(features_train)\n",
    "    valid_predictions = model_decision_tree.predict(features_valid)\n",
    "    test_predictions = model_decision_tree.predict(features_test)\n",
    "    print(\"Exactitud de max_depth igual a\", depth)\n",
    "    print(\"Conjunto de entrenamiento:\", accuracy_score(target_train, train_predictions))\n",
    "    print(\"Conjunto de validación:\", accuracy_score(target_valid, valid_predictions))\n",
    "    print(\"Conjunto de prueba:\", accuracy_score(target_test, test_predictions))\n",
    "    print()"
   ]
  },
  {
   "cell_type": "markdown",
   "metadata": {},
   "source": [
    "#### **Análisis de Resultados para Diferentes Profundidades del Árbol de Decisión**\n",
    "\n",
    "**Resumen de Resultados:**\n",
    "\n",
    "**Exactitud:**\n",
    "\n",
    "La exactitud en los conjuntos de entrenamiento, validación y prueba mejora constantemente a medida que se incrementa la profundidad del árbol (max_depth).\n",
    "\n",
    "A partir de max_depth igual a 23, tanto la exactitud del conjunto de validación como la del conjunto de prueba alcanzan el 100%, lo cual indica que el modelo está perfectamente ajustado para estos conjuntos de datos.\n",
    "\n",
    "**Observaciones:**\n",
    "\n",
    "Incremento Gradual de la Exactitud:\n",
    "\n",
    "Desde max_depth igual a 1 hasta max_depth igual a 10, se observa un aumento gradual en la exactitud de los conjuntos de validación y prueba.\n",
    "\n",
    "Por ejemplo, a max_depth igual a 1, la exactitud en el conjunto de prueba es 0.7823, mientras que a max_depth igual a 10, esta aumenta a 0.8880.\n",
    "\n",
    "**Potencial Sobreajuste:**\n",
    "\n",
    "A partir de max_depth igual a 15, las exactitudes empiezan a acercarse al 100%.\n",
    "A profundidades mayores, especialmente a partir de max_depth igual a 23, el modelo muestra una exactitud del 100% en todos los conjuntos.\n",
    "\n",
    "Este patrón sugiere que el modelo está sobreajustado, ya que una exactitud del 100% en el conjunto de prueba generalmente indica que el modelo no generaliza bien y está ajustado a los datos de entrenamiento.\n",
    "\n",
    "**Mejor Profundidad:**\n",
    "\n",
    "Aunque profundidades mayores ofrecen una exactitud perfecta, es crucial seleccionar una profundidad que equilibre bien el ajuste y la generalización.\n",
    "\n",
    "Una profundidad de max_depth igual a 10 a 15 podría ser óptima, donde se logra una alta exactitud sin alcanzar el 100%, lo cual indica un buen equilibrio entre sesgo y varianza.\n",
    "\n",
    "**Conclusión:**\n",
    "\n",
    "En resumen, aunque profundidades mayores como 23-28 ofrecen una exactitud perfecta, estos resultados probablemente indican sobreajuste. **Un valor de max_depth en el rango de 10 a 15 parece ofrecer un buen compromiso entre precisión y capacidad de generalización, evitando el riesgo de sobreajuste**. Esto es crucial para asegurar que el modelo funcione bien con datos no vistos en el futuro.\n",
    "\n"
   ]
  },
  {
   "cell_type": "markdown",
   "metadata": {},
   "source": [
    "### Evaluación de la Regresión Logística\n"
   ]
  },
  {
   "cell_type": "code",
   "execution_count": 9,
   "metadata": {},
   "outputs": [],
   "source": [
    "#Inicializar el constructor de regresión logística\n",
    "model_logistic_regression = LogisticRegression(random_state=12345, solver='liblinear')"
   ]
  },
  {
   "cell_type": "code",
   "execution_count": 10,
   "metadata": {},
   "outputs": [
    {
     "data": {
      "text/html": [
       "<style>#sk-container-id-1 {\n",
       "  /* Definition of color scheme common for light and dark mode */\n",
       "  --sklearn-color-text: black;\n",
       "  --sklearn-color-line: gray;\n",
       "  /* Definition of color scheme for unfitted estimators */\n",
       "  --sklearn-color-unfitted-level-0: #fff5e6;\n",
       "  --sklearn-color-unfitted-level-1: #f6e4d2;\n",
       "  --sklearn-color-unfitted-level-2: #ffe0b3;\n",
       "  --sklearn-color-unfitted-level-3: chocolate;\n",
       "  /* Definition of color scheme for fitted estimators */\n",
       "  --sklearn-color-fitted-level-0: #f0f8ff;\n",
       "  --sklearn-color-fitted-level-1: #d4ebff;\n",
       "  --sklearn-color-fitted-level-2: #b3dbfd;\n",
       "  --sklearn-color-fitted-level-3: cornflowerblue;\n",
       "\n",
       "  /* Specific color for light theme */\n",
       "  --sklearn-color-text-on-default-background: var(--sg-text-color, var(--theme-code-foreground, var(--jp-content-font-color1, black)));\n",
       "  --sklearn-color-background: var(--sg-background-color, var(--theme-background, var(--jp-layout-color0, white)));\n",
       "  --sklearn-color-border-box: var(--sg-text-color, var(--theme-code-foreground, var(--jp-content-font-color1, black)));\n",
       "  --sklearn-color-icon: #696969;\n",
       "\n",
       "  @media (prefers-color-scheme: dark) {\n",
       "    /* Redefinition of color scheme for dark theme */\n",
       "    --sklearn-color-text-on-default-background: var(--sg-text-color, var(--theme-code-foreground, var(--jp-content-font-color1, white)));\n",
       "    --sklearn-color-background: var(--sg-background-color, var(--theme-background, var(--jp-layout-color0, #111)));\n",
       "    --sklearn-color-border-box: var(--sg-text-color, var(--theme-code-foreground, var(--jp-content-font-color1, white)));\n",
       "    --sklearn-color-icon: #878787;\n",
       "  }\n",
       "}\n",
       "\n",
       "#sk-container-id-1 {\n",
       "  color: var(--sklearn-color-text);\n",
       "}\n",
       "\n",
       "#sk-container-id-1 pre {\n",
       "  padding: 0;\n",
       "}\n",
       "\n",
       "#sk-container-id-1 input.sk-hidden--visually {\n",
       "  border: 0;\n",
       "  clip: rect(1px 1px 1px 1px);\n",
       "  clip: rect(1px, 1px, 1px, 1px);\n",
       "  height: 1px;\n",
       "  margin: -1px;\n",
       "  overflow: hidden;\n",
       "  padding: 0;\n",
       "  position: absolute;\n",
       "  width: 1px;\n",
       "}\n",
       "\n",
       "#sk-container-id-1 div.sk-dashed-wrapped {\n",
       "  border: 1px dashed var(--sklearn-color-line);\n",
       "  margin: 0 0.4em 0.5em 0.4em;\n",
       "  box-sizing: border-box;\n",
       "  padding-bottom: 0.4em;\n",
       "  background-color: var(--sklearn-color-background);\n",
       "}\n",
       "\n",
       "#sk-container-id-1 div.sk-container {\n",
       "  /* jupyter's `normalize.less` sets `[hidden] { display: none; }`\n",
       "     but bootstrap.min.css set `[hidden] { display: none !important; }`\n",
       "     so we also need the `!important` here to be able to override the\n",
       "     default hidden behavior on the sphinx rendered scikit-learn.org.\n",
       "     See: https://github.com/scikit-learn/scikit-learn/issues/21755 */\n",
       "  display: inline-block !important;\n",
       "  position: relative;\n",
       "}\n",
       "\n",
       "#sk-container-id-1 div.sk-text-repr-fallback {\n",
       "  display: none;\n",
       "}\n",
       "\n",
       "div.sk-parallel-item,\n",
       "div.sk-serial,\n",
       "div.sk-item {\n",
       "  /* draw centered vertical line to link estimators */\n",
       "  background-image: linear-gradient(var(--sklearn-color-text-on-default-background), var(--sklearn-color-text-on-default-background));\n",
       "  background-size: 2px 100%;\n",
       "  background-repeat: no-repeat;\n",
       "  background-position: center center;\n",
       "}\n",
       "\n",
       "/* Parallel-specific style estimator block */\n",
       "\n",
       "#sk-container-id-1 div.sk-parallel-item::after {\n",
       "  content: \"\";\n",
       "  width: 100%;\n",
       "  border-bottom: 2px solid var(--sklearn-color-text-on-default-background);\n",
       "  flex-grow: 1;\n",
       "}\n",
       "\n",
       "#sk-container-id-1 div.sk-parallel {\n",
       "  display: flex;\n",
       "  align-items: stretch;\n",
       "  justify-content: center;\n",
       "  background-color: var(--sklearn-color-background);\n",
       "  position: relative;\n",
       "}\n",
       "\n",
       "#sk-container-id-1 div.sk-parallel-item {\n",
       "  display: flex;\n",
       "  flex-direction: column;\n",
       "}\n",
       "\n",
       "#sk-container-id-1 div.sk-parallel-item:first-child::after {\n",
       "  align-self: flex-end;\n",
       "  width: 50%;\n",
       "}\n",
       "\n",
       "#sk-container-id-1 div.sk-parallel-item:last-child::after {\n",
       "  align-self: flex-start;\n",
       "  width: 50%;\n",
       "}\n",
       "\n",
       "#sk-container-id-1 div.sk-parallel-item:only-child::after {\n",
       "  width: 0;\n",
       "}\n",
       "\n",
       "/* Serial-specific style estimator block */\n",
       "\n",
       "#sk-container-id-1 div.sk-serial {\n",
       "  display: flex;\n",
       "  flex-direction: column;\n",
       "  align-items: center;\n",
       "  background-color: var(--sklearn-color-background);\n",
       "  padding-right: 1em;\n",
       "  padding-left: 1em;\n",
       "}\n",
       "\n",
       "\n",
       "/* Toggleable style: style used for estimator/Pipeline/ColumnTransformer box that is\n",
       "clickable and can be expanded/collapsed.\n",
       "- Pipeline and ColumnTransformer use this feature and define the default style\n",
       "- Estimators will overwrite some part of the style using the `sk-estimator` class\n",
       "*/\n",
       "\n",
       "/* Pipeline and ColumnTransformer style (default) */\n",
       "\n",
       "#sk-container-id-1 div.sk-toggleable {\n",
       "  /* Default theme specific background. It is overwritten whether we have a\n",
       "  specific estimator or a Pipeline/ColumnTransformer */\n",
       "  background-color: var(--sklearn-color-background);\n",
       "}\n",
       "\n",
       "/* Toggleable label */\n",
       "#sk-container-id-1 label.sk-toggleable__label {\n",
       "  cursor: pointer;\n",
       "  display: block;\n",
       "  width: 100%;\n",
       "  margin-bottom: 0;\n",
       "  padding: 0.5em;\n",
       "  box-sizing: border-box;\n",
       "  text-align: center;\n",
       "}\n",
       "\n",
       "#sk-container-id-1 label.sk-toggleable__label-arrow:before {\n",
       "  /* Arrow on the left of the label */\n",
       "  content: \"▸\";\n",
       "  float: left;\n",
       "  margin-right: 0.25em;\n",
       "  color: var(--sklearn-color-icon);\n",
       "}\n",
       "\n",
       "#sk-container-id-1 label.sk-toggleable__label-arrow:hover:before {\n",
       "  color: var(--sklearn-color-text);\n",
       "}\n",
       "\n",
       "/* Toggleable content - dropdown */\n",
       "\n",
       "#sk-container-id-1 div.sk-toggleable__content {\n",
       "  max-height: 0;\n",
       "  max-width: 0;\n",
       "  overflow: hidden;\n",
       "  text-align: left;\n",
       "  /* unfitted */\n",
       "  background-color: var(--sklearn-color-unfitted-level-0);\n",
       "}\n",
       "\n",
       "#sk-container-id-1 div.sk-toggleable__content.fitted {\n",
       "  /* fitted */\n",
       "  background-color: var(--sklearn-color-fitted-level-0);\n",
       "}\n",
       "\n",
       "#sk-container-id-1 div.sk-toggleable__content pre {\n",
       "  margin: 0.2em;\n",
       "  border-radius: 0.25em;\n",
       "  color: var(--sklearn-color-text);\n",
       "  /* unfitted */\n",
       "  background-color: var(--sklearn-color-unfitted-level-0);\n",
       "}\n",
       "\n",
       "#sk-container-id-1 div.sk-toggleable__content.fitted pre {\n",
       "  /* unfitted */\n",
       "  background-color: var(--sklearn-color-fitted-level-0);\n",
       "}\n",
       "\n",
       "#sk-container-id-1 input.sk-toggleable__control:checked~div.sk-toggleable__content {\n",
       "  /* Expand drop-down */\n",
       "  max-height: 200px;\n",
       "  max-width: 100%;\n",
       "  overflow: auto;\n",
       "}\n",
       "\n",
       "#sk-container-id-1 input.sk-toggleable__control:checked~label.sk-toggleable__label-arrow:before {\n",
       "  content: \"▾\";\n",
       "}\n",
       "\n",
       "/* Pipeline/ColumnTransformer-specific style */\n",
       "\n",
       "#sk-container-id-1 div.sk-label input.sk-toggleable__control:checked~label.sk-toggleable__label {\n",
       "  color: var(--sklearn-color-text);\n",
       "  background-color: var(--sklearn-color-unfitted-level-2);\n",
       "}\n",
       "\n",
       "#sk-container-id-1 div.sk-label.fitted input.sk-toggleable__control:checked~label.sk-toggleable__label {\n",
       "  background-color: var(--sklearn-color-fitted-level-2);\n",
       "}\n",
       "\n",
       "/* Estimator-specific style */\n",
       "\n",
       "/* Colorize estimator box */\n",
       "#sk-container-id-1 div.sk-estimator input.sk-toggleable__control:checked~label.sk-toggleable__label {\n",
       "  /* unfitted */\n",
       "  background-color: var(--sklearn-color-unfitted-level-2);\n",
       "}\n",
       "\n",
       "#sk-container-id-1 div.sk-estimator.fitted input.sk-toggleable__control:checked~label.sk-toggleable__label {\n",
       "  /* fitted */\n",
       "  background-color: var(--sklearn-color-fitted-level-2);\n",
       "}\n",
       "\n",
       "#sk-container-id-1 div.sk-label label.sk-toggleable__label,\n",
       "#sk-container-id-1 div.sk-label label {\n",
       "  /* The background is the default theme color */\n",
       "  color: var(--sklearn-color-text-on-default-background);\n",
       "}\n",
       "\n",
       "/* On hover, darken the color of the background */\n",
       "#sk-container-id-1 div.sk-label:hover label.sk-toggleable__label {\n",
       "  color: var(--sklearn-color-text);\n",
       "  background-color: var(--sklearn-color-unfitted-level-2);\n",
       "}\n",
       "\n",
       "/* Label box, darken color on hover, fitted */\n",
       "#sk-container-id-1 div.sk-label.fitted:hover label.sk-toggleable__label.fitted {\n",
       "  color: var(--sklearn-color-text);\n",
       "  background-color: var(--sklearn-color-fitted-level-2);\n",
       "}\n",
       "\n",
       "/* Estimator label */\n",
       "\n",
       "#sk-container-id-1 div.sk-label label {\n",
       "  font-family: monospace;\n",
       "  font-weight: bold;\n",
       "  display: inline-block;\n",
       "  line-height: 1.2em;\n",
       "}\n",
       "\n",
       "#sk-container-id-1 div.sk-label-container {\n",
       "  text-align: center;\n",
       "}\n",
       "\n",
       "/* Estimator-specific */\n",
       "#sk-container-id-1 div.sk-estimator {\n",
       "  font-family: monospace;\n",
       "  border: 1px dotted var(--sklearn-color-border-box);\n",
       "  border-radius: 0.25em;\n",
       "  box-sizing: border-box;\n",
       "  margin-bottom: 0.5em;\n",
       "  /* unfitted */\n",
       "  background-color: var(--sklearn-color-unfitted-level-0);\n",
       "}\n",
       "\n",
       "#sk-container-id-1 div.sk-estimator.fitted {\n",
       "  /* fitted */\n",
       "  background-color: var(--sklearn-color-fitted-level-0);\n",
       "}\n",
       "\n",
       "/* on hover */\n",
       "#sk-container-id-1 div.sk-estimator:hover {\n",
       "  /* unfitted */\n",
       "  background-color: var(--sklearn-color-unfitted-level-2);\n",
       "}\n",
       "\n",
       "#sk-container-id-1 div.sk-estimator.fitted:hover {\n",
       "  /* fitted */\n",
       "  background-color: var(--sklearn-color-fitted-level-2);\n",
       "}\n",
       "\n",
       "/* Specification for estimator info (e.g. \"i\" and \"?\") */\n",
       "\n",
       "/* Common style for \"i\" and \"?\" */\n",
       "\n",
       ".sk-estimator-doc-link,\n",
       "a:link.sk-estimator-doc-link,\n",
       "a:visited.sk-estimator-doc-link {\n",
       "  float: right;\n",
       "  font-size: smaller;\n",
       "  line-height: 1em;\n",
       "  font-family: monospace;\n",
       "  background-color: var(--sklearn-color-background);\n",
       "  border-radius: 1em;\n",
       "  height: 1em;\n",
       "  width: 1em;\n",
       "  text-decoration: none !important;\n",
       "  margin-left: 1ex;\n",
       "  /* unfitted */\n",
       "  border: var(--sklearn-color-unfitted-level-1) 1pt solid;\n",
       "  color: var(--sklearn-color-unfitted-level-1);\n",
       "}\n",
       "\n",
       ".sk-estimator-doc-link.fitted,\n",
       "a:link.sk-estimator-doc-link.fitted,\n",
       "a:visited.sk-estimator-doc-link.fitted {\n",
       "  /* fitted */\n",
       "  border: var(--sklearn-color-fitted-level-1) 1pt solid;\n",
       "  color: var(--sklearn-color-fitted-level-1);\n",
       "}\n",
       "\n",
       "/* On hover */\n",
       "div.sk-estimator:hover .sk-estimator-doc-link:hover,\n",
       ".sk-estimator-doc-link:hover,\n",
       "div.sk-label-container:hover .sk-estimator-doc-link:hover,\n",
       ".sk-estimator-doc-link:hover {\n",
       "  /* unfitted */\n",
       "  background-color: var(--sklearn-color-unfitted-level-3);\n",
       "  color: var(--sklearn-color-background);\n",
       "  text-decoration: none;\n",
       "}\n",
       "\n",
       "div.sk-estimator.fitted:hover .sk-estimator-doc-link.fitted:hover,\n",
       ".sk-estimator-doc-link.fitted:hover,\n",
       "div.sk-label-container:hover .sk-estimator-doc-link.fitted:hover,\n",
       ".sk-estimator-doc-link.fitted:hover {\n",
       "  /* fitted */\n",
       "  background-color: var(--sklearn-color-fitted-level-3);\n",
       "  color: var(--sklearn-color-background);\n",
       "  text-decoration: none;\n",
       "}\n",
       "\n",
       "/* Span, style for the box shown on hovering the info icon */\n",
       ".sk-estimator-doc-link span {\n",
       "  display: none;\n",
       "  z-index: 9999;\n",
       "  position: relative;\n",
       "  font-weight: normal;\n",
       "  right: .2ex;\n",
       "  padding: .5ex;\n",
       "  margin: .5ex;\n",
       "  width: min-content;\n",
       "  min-width: 20ex;\n",
       "  max-width: 50ex;\n",
       "  color: var(--sklearn-color-text);\n",
       "  box-shadow: 2pt 2pt 4pt #999;\n",
       "  /* unfitted */\n",
       "  background: var(--sklearn-color-unfitted-level-0);\n",
       "  border: .5pt solid var(--sklearn-color-unfitted-level-3);\n",
       "}\n",
       "\n",
       ".sk-estimator-doc-link.fitted span {\n",
       "  /* fitted */\n",
       "  background: var(--sklearn-color-fitted-level-0);\n",
       "  border: var(--sklearn-color-fitted-level-3);\n",
       "}\n",
       "\n",
       ".sk-estimator-doc-link:hover span {\n",
       "  display: block;\n",
       "}\n",
       "\n",
       "/* \"?\"-specific style due to the `<a>` HTML tag */\n",
       "\n",
       "#sk-container-id-1 a.estimator_doc_link {\n",
       "  float: right;\n",
       "  font-size: 1rem;\n",
       "  line-height: 1em;\n",
       "  font-family: monospace;\n",
       "  background-color: var(--sklearn-color-background);\n",
       "  border-radius: 1rem;\n",
       "  height: 1rem;\n",
       "  width: 1rem;\n",
       "  text-decoration: none;\n",
       "  /* unfitted */\n",
       "  color: var(--sklearn-color-unfitted-level-1);\n",
       "  border: var(--sklearn-color-unfitted-level-1) 1pt solid;\n",
       "}\n",
       "\n",
       "#sk-container-id-1 a.estimator_doc_link.fitted {\n",
       "  /* fitted */\n",
       "  border: var(--sklearn-color-fitted-level-1) 1pt solid;\n",
       "  color: var(--sklearn-color-fitted-level-1);\n",
       "}\n",
       "\n",
       "/* On hover */\n",
       "#sk-container-id-1 a.estimator_doc_link:hover {\n",
       "  /* unfitted */\n",
       "  background-color: var(--sklearn-color-unfitted-level-3);\n",
       "  color: var(--sklearn-color-background);\n",
       "  text-decoration: none;\n",
       "}\n",
       "\n",
       "#sk-container-id-1 a.estimator_doc_link.fitted:hover {\n",
       "  /* fitted */\n",
       "  background-color: var(--sklearn-color-fitted-level-3);\n",
       "}\n",
       "</style><div id=\"sk-container-id-1\" class=\"sk-top-container\"><div class=\"sk-text-repr-fallback\"><pre>LogisticRegression(random_state=12345, solver=&#x27;liblinear&#x27;)</pre><b>In a Jupyter environment, please rerun this cell to show the HTML representation or trust the notebook. <br />On GitHub, the HTML representation is unable to render, please try loading this page with nbviewer.org.</b></div><div class=\"sk-container\" hidden><div class=\"sk-item\"><div class=\"sk-estimator fitted sk-toggleable\"><input class=\"sk-toggleable__control sk-hidden--visually\" id=\"sk-estimator-id-1\" type=\"checkbox\" checked><label for=\"sk-estimator-id-1\" class=\"sk-toggleable__label fitted sk-toggleable__label-arrow fitted\">&nbsp;&nbsp;LogisticRegression<a class=\"sk-estimator-doc-link fitted\" rel=\"noreferrer\" target=\"_blank\" href=\"https://scikit-learn.org/1.5/modules/generated/sklearn.linear_model.LogisticRegression.html\">?<span>Documentation for LogisticRegression</span></a><span class=\"sk-estimator-doc-link fitted\">i<span>Fitted</span></span></label><div class=\"sk-toggleable__content fitted\"><pre>LogisticRegression(random_state=12345, solver=&#x27;liblinear&#x27;)</pre></div> </div></div></div></div>"
      ],
      "text/plain": [
       "LogisticRegression(random_state=12345, solver='liblinear')"
      ]
     },
     "execution_count": 10,
     "metadata": {},
     "output_type": "execute_result"
    }
   ],
   "source": [
    "# Entrenar el modelo en el conjunto de entrenamiento\n",
    "model_logistic_regression.fit(features_train,target_train)"
   ]
  },
  {
   "cell_type": "code",
   "execution_count": 11,
   "metadata": {},
   "outputs": [
    {
     "name": "stdout",
     "output_type": "stream",
     "text": [
      "Exactitud en el conjunto de entrenamiento: 0.7131742738589212\n",
      "Exactitud en el conjunto de validación: 0.6780715396578538\n",
      "Exactitud en el conjunto de prueba: 0.7402799377916018\n"
     ]
    }
   ],
   "source": [
    "# Predecir en los conjuntos de entrenamiento, validación y prueba\n",
    "train_predictions = model_logistic_regression.predict(features_train)\n",
    "valid_predictions = model_logistic_regression.predict(features_valid)\n",
    "test_predictions = model_logistic_regression.predict(features_test)\n",
    "\n",
    "# Imprimir la exactitud en cada conjunto\n",
    "print(\"Exactitud en el conjunto de entrenamiento:\", accuracy_score(target_train, train_predictions))\n",
    "print(\"Exactitud en el conjunto de validación:\", accuracy_score(target_valid, valid_predictions))\n",
    "print(\"Exactitud en el conjunto de prueba:\", accuracy_score(target_test, test_predictions))"
   ]
  },
  {
   "cell_type": "markdown",
   "metadata": {},
   "source": [
    "#### **Análisis de Resultados para Diferentes Parámetros de la Regresión Logística**\n",
    "**Resumen de Resultados:**\n",
    "\n",
    "**Exactitud:**\n",
    "\n",
    "La exactitud en los conjuntos de entrenamiento, validación y prueba es relativamente baja, con valores del 71.52%, 67.50%, y 74.03% respectivamente.\n",
    "\n",
    "**Observaciones:**\n",
    "\n",
    "La exactitud en todos los conjuntos es bastante similar, lo que sugiere que el modelo no está aprendiendo de manera efectiva las relaciones en los datos.\n",
    "\n",
    "**Potencial Subajuste:**\n",
    "\n",
    "La baja exactitud en todos los conjuntos sugiere que el modelo puede estar subajustado y no está capturando adecuadamente la complejidad de los datos.\n",
    "\n",
    "\n",
    "**Conclusión:**\n",
    "\n",
    "En resumen, los resultados actuales sugieren que el modelo de regresión logística no está alcanzando el umbral de exactitud deseado de 0.75. Es necesario investigar y ajustar los hiperparámetros del modelo para mejorar su capacidad de generalización y su rendimiento en los conjuntos de datos de validación y prueba.\n",
    "\n"
   ]
  },
  {
   "cell_type": "markdown",
   "metadata": {},
   "source": [
    "### Optimización del Desempeño del Bosque Aleatorio"
   ]
  },
  {
   "cell_type": "code",
   "execution_count": 12,
   "metadata": {
    "scrolled": true
   },
   "outputs": [
    {
     "name": "stdout",
     "output_type": "stream",
     "text": [
      "Número de estimadores: 1\n",
      "Exactitud en el conjunto de entrenamiento: 0.8993775933609959\n",
      "Exactitud en el conjunto de validación: 0.7091757387247278\n",
      "Exactitud en el conjunto de prueba: 0.713841368584759\n",
      "\n",
      "Número de estimadores: 2\n",
      "Exactitud en el conjunto de entrenamiento: 0.9045643153526971\n",
      "Exactitud en el conjunto de validación: 0.7402799377916018\n",
      "Exactitud en el conjunto de prueba: 0.776049766718507\n",
      "\n",
      "Número de estimadores: 3\n",
      "Exactitud en el conjunto de entrenamiento: 0.95798755186722\n",
      "Exactitud en el conjunto de validación: 0.7387247278382582\n",
      "Exactitud en el conjunto de prueba: 0.7869362363919129\n",
      "\n",
      "Número de estimadores: 4\n",
      "Exactitud en el conjunto de entrenamiento: 0.9491701244813278\n",
      "Exactitud en el conjunto de validación: 0.7620528771384136\n",
      "Exactitud en el conjunto de prueba: 0.7978227060653188\n",
      "\n",
      "Número de estimadores: 5\n",
      "Exactitud en el conjunto de entrenamiento: 0.9714730290456431\n",
      "Exactitud en el conjunto de validación: 0.7682737169517885\n",
      "Exactitud en el conjunto de prueba: 0.7822706065318819\n",
      "\n",
      "Número de estimadores: 6\n",
      "Exactitud en el conjunto de entrenamiento: 0.9662863070539419\n",
      "Exactitud en el conjunto de validación: 0.7729393468118196\n",
      "Exactitud en el conjunto de prueba: 0.8055987558320373\n",
      "\n",
      "Número de estimadores: 7\n",
      "Exactitud en el conjunto de entrenamiento: 0.9823651452282157\n",
      "Exactitud en el conjunto de validación: 0.776049766718507\n",
      "Exactitud en el conjunto de prueba: 0.7962674961119751\n",
      "\n",
      "Número de estimadores: 8\n",
      "Exactitud en el conjunto de entrenamiento: 0.9756224066390041\n",
      "Exactitud en el conjunto de validación: 0.7729393468118196\n",
      "Exactitud en el conjunto de prueba: 0.8087091757387247\n",
      "\n",
      "Número de estimadores: 9\n",
      "Exactitud en el conjunto de entrenamiento: 0.9844398340248963\n",
      "Exactitud en el conjunto de validación: 0.7822706065318819\n",
      "Exactitud en el conjunto de prueba: 0.8055987558320373\n",
      "\n",
      "Número de estimadores: 10\n",
      "Exactitud en el conjunto de entrenamiento: 0.9828838174273858\n",
      "Exactitud en el conjunto de validación: 0.7822706065318819\n",
      "Exactitud en el conjunto de prueba: 0.8195956454121306\n",
      "\n",
      "Número de estimadores: 11\n",
      "Exactitud en el conjunto de entrenamiento: 0.9906639004149378\n",
      "Exactitud en el conjunto de validación: 0.7729393468118196\n",
      "Exactitud en el conjunto de prueba: 0.807153965785381\n",
      "\n",
      "Número de estimadores: 12\n",
      "Exactitud en el conjunto de entrenamiento: 0.9885892116182573\n",
      "Exactitud en el conjunto de validación: 0.7698289269051322\n",
      "Exactitud en el conjunto de prueba: 0.8164852255054432\n",
      "\n",
      "Número de estimadores: 13\n",
      "Exactitud en el conjunto de entrenamiento: 0.9922199170124482\n",
      "Exactitud en el conjunto de validación: 0.7713841368584758\n",
      "Exactitud en el conjunto de prueba: 0.80248833592535\n",
      "\n",
      "Número de estimadores: 14\n",
      "Exactitud en el conjunto de entrenamiento: 0.9885892116182573\n",
      "Exactitud en el conjunto de validación: 0.7791601866251944\n",
      "Exactitud en el conjunto de prueba: 0.8055987558320373\n",
      "\n",
      "Número de estimadores: 15\n",
      "Exactitud en el conjunto de entrenamiento: 0.9927385892116183\n",
      "Exactitud en el conjunto de validación: 0.776049766718507\n",
      "Exactitud en el conjunto de prueba: 0.8040435458786936\n",
      "\n",
      "Número de estimadores: 16\n",
      "Exactitud en el conjunto de entrenamiento: 0.9911825726141079\n",
      "Exactitud en el conjunto de validación: 0.7744945567651633\n",
      "Exactitud en el conjunto de prueba: 0.8164852255054432\n",
      "\n",
      "Número de estimadores: 17\n",
      "Exactitud en el conjunto de entrenamiento: 0.9937759336099585\n",
      "Exactitud en el conjunto de validación: 0.7838258164852255\n",
      "Exactitud en el conjunto de prueba: 0.8118195956454122\n",
      "\n",
      "Número de estimadores: 18\n",
      "Exactitud en el conjunto de entrenamiento: 0.9922199170124482\n",
      "Exactitud en el conjunto de validación: 0.7838258164852255\n",
      "Exactitud en el conjunto de prueba: 0.8133748055987559\n",
      "\n",
      "Número de estimadores: 19\n",
      "Exactitud en el conjunto de entrenamiento: 0.9942946058091287\n",
      "Exactitud en el conjunto de validación: 0.7838258164852255\n",
      "Exactitud en el conjunto de prueba: 0.8102643856920684\n",
      "\n",
      "La exactitud del mejor modelo en el conjunto de validación (n_estimators = 17): 0.7838258164852255\n"
     ]
    }
   ],
   "source": [
    "best_score = 0\n",
    "best_est = 0\n",
    "\n",
    "for est in range(1, 20): # Seleccionar el rango del hiperparámetro a manipular \n",
    "    model_random_forest = RandomForestClassifier(random_state=12345, n_estimators=est) # Configurar el número de árboles\n",
    "    model_random_forest.fit(features_train, target_train) # Entrena el modelo en el conjunto de entrenamiento\n",
    "    train_score = model_random_forest.score(features_train, target_train) # Calcula la puntuación de accuracy en el conjunto de entrenamiento\n",
    "    valid_score = model_random_forest.score(features_valid, target_valid) # Calcula la puntuación de accuracy en el conjunto de validación\n",
    "    test_score = model_random_forest.score(features_test, target_test) # Calcula la puntuación de accuracy en el conjunto de prueba\n",
    "    \n",
    "    print(\"Número de estimadores:\", est)\n",
    "    print(\"Exactitud en el conjunto de entrenamiento:\", train_score)\n",
    "    print(\"Exactitud en el conjunto de validación:\", valid_score)\n",
    "    print(\"Exactitud en el conjunto de prueba:\", test_score)\n",
    "    print() # Imprimir una línea en blanco para separar los resultados\n",
    "    \n",
    "    if valid_score > best_score:\n",
    "        best_score = valid_score # Guarda la mejor puntuación de accuracy en el conjunto de validación\n",
    "        best_est = est # Guarda el número de estimadores que corresponden a la mejor puntuación de exactitud\n",
    "\n",
    "print(\"La exactitud del mejor modelo en el conjunto de validación (n_estimators = {}): {}\".format(best_est, best_score))\n"
   ]
  },
  {
   "cell_type": "markdown",
   "metadata": {},
   "source": [
    "#### **Análisis de Resultados para Diferente número de estimadores del Bosque aleatorio**\n",
    "\n",
    "**Resumen de Resultados:**\n",
    "\n",
    "La exactitud en los conjuntos de entrenamiento, validación y prueba se evaluó para diferentes números de estimadores en el modelo de Bosque Aleatorio.\n",
    "\n",
    "**Exactitud:**\n",
    "\n",
    "La exactitud en el conjunto de entrenamiento aumenta generalmente a medida que aumenta el número de estimadores, indicando un mejor ajuste a los datos de entrenamiento.\n",
    "La exactitud en el conjunto de validación también tiende a aumentar con un mayor número de estimadores, lo que sugiere una mejor capacidad de generalización del modelo.\n",
    "Sin embargo, la exactitud en el conjunto de prueba puede no seguir la misma tendencia y puede variar. A veces, después de cierto punto, la mejora en la exactitud en el conjunto de prueba puede ser menos significativa o incluso puede disminuir.\n",
    "\n",
    "**Conclusión:**\n",
    "\n",
    "El modelo con 17 estimadores parece ofrecer una buena combinación de exactitud en los conjuntos de validación y prueba, lo que sugiere un equilibrio entre sesgo y varianza.\n",
    "Aumentar el número de estimadores puede mejorar la capacidad de generalización del modelo, pero es importante vigilar la exactitud en el conjunto de prueba para evitar el sobreajuste.\n",
    "En general, se recomienda elegir el modelo que tenga un buen rendimiento en el conjunto de validación y una exactitud aceptable en el conjunto de prueba, lo que indica una buena capacidad de generalización a datos no vistos. En este caso, el modelo con 17 estimadores parece ser la mejor opción."
   ]
  },
  {
   "cell_type": "markdown",
   "metadata": {},
   "source": [
    "## Evaluación del Modelo Utilizando el Conjunto de Prueba"
   ]
  },
  {
   "cell_type": "code",
   "execution_count": 13,
   "metadata": {},
   "outputs": [
    {
     "name": "stdout",
     "output_type": "stream",
     "text": [
      "Exactitud de Decision Tree en el conjunto de entrenamiento: 0.9590\n",
      "Exactitud de Decision Tree en el conjunto de validación: 0.7387\n",
      "Exactitud de Decision Tree en el conjunto de prueba: 0.7621\n",
      "\n",
      "Precisión de Decision Tree en el conjunto de entrenamiento: 0.9828\n",
      "Precisión de Decision Tree en el conjunto de validación: 0.6556\n",
      "Precisión de Decision Tree en el conjunto de prueba: 0.5706\n",
      "\n",
      "Sensibilidad de Decision Tree en el conjunto de entrenamiento: 0.8801\n",
      "Sensibilidad de Decision Tree en el conjunto de validación: 0.5268\n",
      "Sensibilidad de Decision Tree en el conjunto de prueba: 0.5480\n",
      "\n",
      "Exactitud de Logistic Regression en el conjunto de entrenamiento: 0.7521\n",
      "Exactitud de Logistic Regression en el conjunto de validación: 0.7076\n",
      "Exactitud de Logistic Regression en el conjunto de prueba: 0.7869\n",
      "\n",
      "Precisión de Logistic Regression en el conjunto de entrenamiento: 0.7849\n",
      "Precisión de Logistic Regression en el conjunto de validación: 0.8333\n",
      "Precisión de Logistic Regression en el conjunto de prueba: 0.8571\n",
      "\n",
      "Sensibilidad de Logistic Regression en el conjunto de entrenamiento: 0.2500\n",
      "Sensibilidad de Logistic Regression en el conjunto de validación: 0.2009\n",
      "Sensibilidad de Logistic Regression en el conjunto de prueba: 0.2712\n",
      "\n",
      "Exactitud de Random Forest en el conjunto de entrenamiento: 0.9938\n",
      "Exactitud de Random Forest en el conjunto de validación: 0.7838\n",
      "Exactitud de Random Forest en el conjunto de prueba: 0.8118\n",
      "\n",
      "Precisión de Random Forest en el conjunto de entrenamiento: 0.9965\n",
      "Precisión de Random Forest en el conjunto de validación: 0.7607\n",
      "Precisión de Random Forest en el conjunto de prueba: 0.7000\n",
      "\n",
      "Sensibilidad de Random Forest en el conjunto de entrenamiento: 0.9829\n",
      "Sensibilidad de Random Forest en el conjunto de validación: 0.5536\n",
      "Sensibilidad de Random Forest en el conjunto de prueba: 0.5537\n",
      "\n"
     ]
    }
   ],
   "source": [
    "# Lista de modelos a probar\n",
    "models = {\n",
    "    'Decision Tree': DecisionTreeClassifier(max_depth=15,random_state=12345),\n",
    "    'Logistic Regression': LogisticRegression(random_state=12345, max_iter=1000),\n",
    "    'Random Forest': RandomForestClassifier(random_state=12345,n_estimators=17)\n",
    "}\n",
    "\n",
    "# Entrenar y evaluar cada modelo\n",
    "for model_name, model in models.items():\n",
    "    model.fit(features_train, target_train)  # Entrenar el modelo\n",
    "    \n",
    "    # Predicciones\n",
    "    train_predictions = model.predict(features_train)  # Predecir en el conjunto de entrenamiento\n",
    "    valid_predictions = model.predict(features_valid)  # Predecir en el conjunto de validación\n",
    "    test_predictions = model.predict(features_test)  # Predecir en el conjunto de prueba\n",
    "    \n",
    "    # Calcular exactitud\n",
    "    train_accuracy = accuracy_score(target_train, train_predictions)\n",
    "    valid_accuracy = accuracy_score(target_valid, valid_predictions)\n",
    "    test_accuracy = accuracy_score(target_test, test_predictions)\n",
    "    \n",
    "    #Calcular la precisión \n",
    "    train_precision = precision_score(target_train, train_predictions)\n",
    "    valid_precision = precision_score(target_valid, valid_predictions)\n",
    "    test_precision = precision_score(target_test, test_predictions)\n",
    "    \n",
    "    #Calcular sensibilidad\n",
    "    train_recall = recall_score(target_train, train_predictions)\n",
    "    valid_recall = recall_score(target_valid, valid_predictions)\n",
    "    test_recall = recall_score(target_test, test_predictions)\n",
    "    \n",
    "       # Imprimir resultados de exactitud\n",
    "    print(f'Exactitud de {model_name} en el conjunto de entrenamiento: {train_accuracy:.4f}')\n",
    "    print(f'Exactitud de {model_name} en el conjunto de validación: {valid_accuracy:.4f}')\n",
    "    print(f'Exactitud de {model_name} en el conjunto de prueba: {test_accuracy:.4f}')\n",
    "    print()\n",
    "       # Imprimir resultados de precisión\n",
    "    print(f'Precisión de {model_name} en el conjunto de entrenamiento: {train_precision:.4f}')\n",
    "    print(f'Precisión de {model_name} en el conjunto de validación: {valid_precision:.4f}')\n",
    "    print(f'Precisión de {model_name} en el conjunto de prueba: {test_precision:.4f}')\n",
    "    print()\n",
    "    # Imprimir resultados de sensibilidad\n",
    "    print(f'Sensibilidad de {model_name} en el conjunto de entrenamiento: {train_recall:.4f}')\n",
    "    print(f'Sensibilidad de {model_name} en el conjunto de validación: {valid_recall:.4f}')\n",
    "    print(f'Sensibilidad de {model_name} en el conjunto de prueba: {test_recall:.4f}')\n",
    "    print()"
   ]
  },
  {
   "cell_type": "markdown",
   "metadata": {},
   "source": [
    "**Análisis:**\n",
    "\n",
    "**Decision Tree:** Muestra sobreajuste con una alta exactitud y precisión en el conjunto de entrenamiento, pero disminuye significativamente en los conjuntos de validación y prueba.\n",
    "\n",
    "**Logistic Regression:** No muestra sobreajuste, pero tiene una baja sensibilidad, lo que indica que no es bueno detectando la clase positiva.\n",
    "\n",
    "**Random Forest:** Muestra sobreajuste en el conjunto de entrenamiento, pero logra la mejor combinación de exactitud, precisión y sensibilidad en los conjuntos de validación y prueba."
   ]
  },
  {
   "cell_type": "markdown",
   "metadata": {},
   "source": [
    "**Conclusión**\n",
    "\n",
    "El Random Forest es el mejor modelo para esta tarea, ya que presenta la mejor exactitud en los conjuntos de validación y prueba y mantiene un equilibrio razonable entre precisión y sensibilidad, lo que es importante para detectar tanto errores de clasificación de 1 como de 0.\n",
    "\n",
    "Dado que nos interesa detectar ambos tipos de errores (falsos positivos y falsos negativos), el modelo Random Forest es una elección adecuada, ya que proporciona un buen rendimiento en términos de exactitud y un balance razonable en precisión y sensibilidad."
   ]
  },
  {
   "cell_type": "markdown",
   "metadata": {},
   "source": [
    "## Prueba de Cordura del Modelo"
   ]
  },
  {
   "cell_type": "markdown",
   "metadata": {},
   "source": [
    "Comparación del desempeño en el conjunto de validación y el de prueba con datos generados aleatoriamente:"
   ]
  },
  {
   "cell_type": "code",
   "execution_count": 14,
   "metadata": {},
   "outputs": [
    {
     "name": "stdout",
     "output_type": "stream",
     "text": [
      "Exactitud del modelo real en validación: 0.7838\n",
      "Exactitud del modelo real en prueba: 0.8118\n",
      "Exactitud con etiquetas aleatorias en validación: 0.5241\n",
      "Exactitud con etiquetas aleatorias en prueba: 0.4821\n"
     ]
    }
   ],
   "source": [
    "# Entrenar el modelo seleccionado\n",
    "\n",
    "model = RandomForestClassifier(random_state=12345,n_estimators=17)\n",
    "\n",
    "model.fit(features_train, target_train)\n",
    "\n",
    "# Predicciones del modelo seleccionado \n",
    "valid_predictions = model.predict(features_valid)\n",
    "test_predictions = model.predict(features_test)\n",
    "\n",
    "# Exactitud del modelo seleccionado \n",
    "valid_accuracy = accuracy_score(target_valid, valid_predictions)\n",
    "test_accuracy = accuracy_score(target_test, test_predictions)\n",
    "\n",
    "print(f'Exactitud del modelo real en validación: {valid_accuracy:.4f}')\n",
    "print(f'Exactitud del modelo real en prueba: {test_accuracy:.4f}')\n",
    "\n",
    "# Generar etiquetas aleatorias\n",
    "np.random.seed(54321)\n",
    "random_valid_predictions = np.random.choice([0, 1], size=target_valid.shape)\n",
    "random_test_predictions = np.random.choice([0, 1], size=target_test.shape)\n",
    "\n",
    "# Exactitud de las etiquetas aleatorias\n",
    "random_valid_accuracy = accuracy_score(target_valid, random_valid_predictions)\n",
    "random_test_accuracy = accuracy_score(target_test, random_test_predictions)\n",
    "\n",
    "print(f'Exactitud con etiquetas aleatorias en validación: {random_valid_accuracy:.4f}')\n",
    "print(f'Exactitud con etiquetas aleatorias en prueba: {random_test_accuracy:.4f}')"
   ]
  },
  {
   "cell_type": "markdown",
   "metadata": {},
   "source": [
    "Entrenar un modelo aleatorio:"
   ]
  },
  {
   "cell_type": "code",
   "execution_count": 15,
   "metadata": {},
   "outputs": [
    {
     "name": "stdout",
     "output_type": "stream",
     "text": [
      "Exactitud del modelo aleatorio en validación: 0.4961\n",
      "Exactitud del modelo aleatorio en prueba: 0.4790\n"
     ]
    }
   ],
   "source": [
    "# Entrenar un modelo que prediga al azar\n",
    "dummy_model = DummyClassifier(strategy='uniform', random_state=12345)\n",
    "dummy_model.fit(features_train, target_train)\n",
    "\n",
    "# Predicciones del modelo aleatorio\n",
    "dummy_valid_predictions = dummy_model.predict(features_valid)\n",
    "dummy_test_predictions = dummy_model.predict(features_test)\n",
    "\n",
    "# Exactitud del modelo aleatorio\n",
    "dummy_valid_accuracy = accuracy_score(target_valid, dummy_valid_predictions)\n",
    "dummy_test_accuracy = accuracy_score(target_test, dummy_test_predictions)\n",
    "\n",
    "print(f'Exactitud del modelo aleatorio en validación: {dummy_valid_accuracy:.4f}')\n",
    "print(f'Exactitud del modelo aleatorio en prueba: {dummy_test_accuracy:.4f}')"
   ]
  },
  {
   "cell_type": "markdown",
   "metadata": {},
   "source": [
    "### Análisis de Comparación de Modelos con Datos Reales y Aleatorios\n",
    "\n",
    "**Resumen de Resultados:**\n",
    "\n",
    "**Modelo Real:**\n",
    "\n",
    "Exactitud en Validación: 0.7838\n",
    "Exactitud en Prueba: 0.8118\n",
    "\n",
    "**Modelo con Etiquetas Aleatorias:**\n",
    "\n",
    "Exactitud en Validación: 0.5241\n",
    "Exactitud en Prueba: 0.4821\n",
    "\n",
    "**Modelo Aleatorio:**\n",
    "\n",
    "Exactitud en Validación: 0.4961\n",
    "Exactitud en Prueba: 0.4790\n",
    "\n",
    "**Observaciones:**\n",
    "\n",
    "**Comparación entre Modelos:**\n",
    "\n",
    "El modelo real supera significativamente tanto al modelo con etiquetas aleatorias como al modelo aleatorio en términos de exactitud en los conjuntos de validación y prueba.\n",
    "\n",
    "La exactitud del modelo real en ambos conjuntos de datos es considerablemente más alta en comparación con los modelos generados aleatoriamente.\n",
    "\n",
    "**Efecto de las Etiquetas Aleatorias:**\n",
    "\n",
    "La diferencia entre la exactitud del modelo real y la del modelo con etiquetas aleatorias destaca la importancia del aprendizaje adecuado de las características y patrones en los datos para la tarea de clasificación.\n",
    "\n",
    "**Comparación con el Modelo Aleatorio:**\n",
    "\n",
    "El modelo aleatorio muestra un desempeño ligeramente mejor que el modelo con etiquetas aleatorias, pero aún así está significativamente por debajo del modelo real en términos de exactitud en ambos conjuntos de datos.\n",
    "\n",
    "**Conclusión:**\n",
    "\n",
    "En resumen, los resultados demuestran la eficacia del modelo real en la clasificación de datos en comparación con los modelos generados aleatoriamente. La diferencia en la exactitud subraya la importancia del aprendizaje significativo de los datos para la construcción de modelos de clasificación precisos y fiables."
   ]
  },
  {
   "cell_type": "markdown",
   "metadata": {},
   "source": [
    "## Conclusiones: "
   ]
  },
  {
   "cell_type": "markdown",
   "metadata": {},
   "source": [
    "El objetivo principal del proyecto era desarrollar un modelo de clasificación para la compañía móvil Megaline, que pudiera analizar el comportamiento de los clientes y recomendar uno de los nuevos planes: Smart o Ultra. Se tenía acceso a datos de comportamiento de suscriptores que ya habían migrado a los planes nuevos, lo que permitió la creación del modelo de clasificación.\n",
    "\n",
    "### **Análisis de Resultados Específicos:**\n",
    "\n",
    "**Árbol de Decisión:** Se observó que profundidades mayores, como 23-28, ofrecían una exactitud perfecta, pero indicaban probable sobreajuste. Se sugirió que una profundidad en el rango de 10 a 15 ofrecía un buen equilibrio entre precisión y capacidad de generalización.\n",
    "\n",
    "**Regresión Logística:** Los resultados sugirieron que el modelo de regresión logística no alcanzaba el umbral de exactitud deseado. Se identificó la necesidad de ajustar los hiperparámetros del modelo para mejorar su rendimiento.\n",
    "\n",
    "**Bosque Aleatorio:** Se determinó que el modelo con 17 estimadores ofrecía una buena combinación de exactitud en los conjuntos de validación y prueba, representando un equilibrio entre sesgo y varianza. Se recomendó elegir el modelo con mejor rendimiento en validación y una exactitud aceptable en prueba.\n",
    "\n"
   ]
  },
  {
   "cell_type": "markdown",
   "metadata": {},
   "source": [
    "### **Prueba de Cordura y Comparación de Modelos con Datos Reales y Aleatorios:**\n",
    "\n",
    "En resumen, los resultados demuestran la eficacia del modelo real en la clasificación de datos en comparación con los modelos generados aleatoriamente. La diferencia en la exactitud subraya la importancia del aprendizaje significativo de los datos para la construcción de modelos de clasificación precisos y fiables, lo que refuerza la validez del modelo desarrollado en este proyecto y sugiere su capacidad para generalizar patrones reales en los datos de Megaline."
   ]
  }
 ],
 "metadata": {
  "ExecuteTimeLog": [
   {
    "duration": 474,
    "start_time": "2024-05-19T18:09:34.473Z"
   },
   {
    "duration": 1095,
    "start_time": "2024-05-19T18:10:51.979Z"
   },
   {
    "duration": 19,
    "start_time": "2024-05-19T18:11:12.931Z"
   },
   {
    "duration": 11,
    "start_time": "2024-05-19T18:11:47.564Z"
   },
   {
    "duration": 10,
    "start_time": "2024-05-19T18:13:20.853Z"
   },
   {
    "duration": 30,
    "start_time": "2024-05-19T18:18:04.284Z"
   },
   {
    "duration": 664,
    "start_time": "2024-05-19T18:18:38.101Z"
   },
   {
    "duration": 15,
    "start_time": "2024-05-19T18:18:39.350Z"
   },
   {
    "duration": 8,
    "start_time": "2024-05-19T18:18:40.140Z"
   },
   {
    "duration": 34,
    "start_time": "2024-05-19T18:21:40.795Z"
   },
   {
    "duration": 105,
    "start_time": "2024-05-19T18:28:53.643Z"
   },
   {
    "duration": 30,
    "start_time": "2024-05-19T18:29:53.231Z"
   },
   {
    "duration": 6,
    "start_time": "2024-05-19T18:30:38.023Z"
   },
   {
    "duration": 11,
    "start_time": "2024-05-19T18:30:39.164Z"
   },
   {
    "duration": 118,
    "start_time": "2024-05-19T18:30:43.684Z"
   },
   {
    "duration": 11,
    "start_time": "2024-05-19T18:39:17.696Z"
   },
   {
    "duration": 30,
    "start_time": "2024-05-19T18:39:20.784Z"
   },
   {
    "duration": 10,
    "start_time": "2024-05-19T18:43:18.788Z"
   },
   {
    "duration": 8,
    "start_time": "2024-05-19T18:43:26.342Z"
   },
   {
    "duration": 33,
    "start_time": "2024-05-19T18:43:30.564Z"
   },
   {
    "duration": 9,
    "start_time": "2024-05-19T18:49:01.944Z"
   },
   {
    "duration": 12,
    "start_time": "2024-05-19T18:49:27.018Z"
   },
   {
    "duration": 29,
    "start_time": "2024-05-19T18:54:09.150Z"
   },
   {
    "duration": 31,
    "start_time": "2024-05-19T18:54:25.785Z"
   },
   {
    "duration": 56,
    "start_time": "2024-05-19T18:54:29.170Z"
   },
   {
    "duration": 41,
    "start_time": "2024-05-19T18:54:32.270Z"
   },
   {
    "duration": 208,
    "start_time": "2024-05-19T18:55:18.323Z"
   },
   {
    "duration": 27,
    "start_time": "2024-05-19T18:56:46.228Z"
   },
   {
    "duration": 9,
    "start_time": "2024-05-19T18:57:10.862Z"
   },
   {
    "duration": 48,
    "start_time": "2024-05-19T18:57:15.311Z"
   },
   {
    "duration": 26,
    "start_time": "2024-05-19T18:57:26.270Z"
   },
   {
    "duration": 7,
    "start_time": "2024-05-19T18:57:58.423Z"
   },
   {
    "duration": 6,
    "start_time": "2024-05-19T18:58:04.809Z"
   },
   {
    "duration": 22,
    "start_time": "2024-05-19T18:59:06.674Z"
   },
   {
    "duration": 28,
    "start_time": "2024-05-19T19:02:12.259Z"
   },
   {
    "duration": 752,
    "start_time": "2024-05-19T19:02:22.758Z"
   },
   {
    "duration": 6,
    "start_time": "2024-05-19T19:05:13.924Z"
   },
   {
    "duration": 24,
    "start_time": "2024-05-19T19:05:34.879Z"
   },
   {
    "duration": 5,
    "start_time": "2024-05-19T19:05:52.991Z"
   },
   {
    "duration": 8,
    "start_time": "2024-05-19T19:05:59.134Z"
   },
   {
    "duration": 25,
    "start_time": "2024-05-19T19:08:12.512Z"
   },
   {
    "duration": 173,
    "start_time": "2024-05-19T19:08:45.483Z"
   },
   {
    "duration": 62,
    "start_time": "2024-05-19T19:09:01.799Z"
   },
   {
    "duration": 8,
    "start_time": "2024-05-19T19:09:09.625Z"
   },
   {
    "duration": 9,
    "start_time": "2024-05-19T19:09:22.337Z"
   },
   {
    "duration": 27,
    "start_time": "2024-05-19T19:09:24.535Z"
   },
   {
    "duration": 65,
    "start_time": "2024-05-19T19:10:02.296Z"
   },
   {
    "duration": 310,
    "start_time": "2024-05-19T21:23:49.986Z"
   },
   {
    "duration": 1173,
    "start_time": "2024-05-19T21:23:59.603Z"
   },
   {
    "duration": 18,
    "start_time": "2024-05-19T21:24:00.780Z"
   },
   {
    "duration": 35,
    "start_time": "2024-05-19T21:24:00.801Z"
   },
   {
    "duration": 6,
    "start_time": "2024-05-19T21:24:00.840Z"
   },
   {
    "duration": 9,
    "start_time": "2024-05-19T21:24:00.851Z"
   },
   {
    "duration": 9,
    "start_time": "2024-05-19T21:24:00.863Z"
   },
   {
    "duration": 66,
    "start_time": "2024-05-19T21:24:00.879Z"
   },
   {
    "duration": 7,
    "start_time": "2024-05-19T21:24:00.947Z"
   },
   {
    "duration": 6,
    "start_time": "2024-05-19T21:24:00.957Z"
   },
   {
    "duration": 8,
    "start_time": "2024-05-19T21:26:20.657Z"
   },
   {
    "duration": 8,
    "start_time": "2024-05-19T21:26:30.466Z"
   },
   {
    "duration": 7,
    "start_time": "2024-05-19T21:27:20.229Z"
   },
   {
    "duration": 6,
    "start_time": "2024-05-19T21:28:25.895Z"
   },
   {
    "duration": 423,
    "start_time": "2024-05-19T21:33:55.854Z"
   },
   {
    "duration": 38,
    "start_time": "2024-05-19T21:34:11.955Z"
   },
   {
    "duration": 151,
    "start_time": "2024-05-19T21:34:26.074Z"
   },
   {
    "duration": 358,
    "start_time": "2024-05-19T21:34:54.716Z"
   },
   {
    "duration": 642,
    "start_time": "2024-05-19T21:35:09.913Z"
   },
   {
    "duration": 584,
    "start_time": "2024-05-19T21:35:56.323Z"
   },
   {
    "duration": 614,
    "start_time": "2024-05-19T21:36:59.396Z"
   },
   {
    "duration": 266,
    "start_time": "2024-05-19T21:41:19.310Z"
   },
   {
    "duration": 26,
    "start_time": "2024-05-19T21:42:01.188Z"
   },
   {
    "duration": 619,
    "start_time": "2024-05-19T21:42:05.547Z"
   },
   {
    "duration": 26,
    "start_time": "2024-05-19T21:43:17.296Z"
   },
   {
    "duration": 38,
    "start_time": "2024-05-19T21:44:12.118Z"
   },
   {
    "duration": 85,
    "start_time": "2024-05-19T21:44:36.200Z"
   },
   {
    "duration": 82,
    "start_time": "2024-05-19T21:44:50.962Z"
   },
   {
    "duration": 130,
    "start_time": "2024-05-19T21:46:48.097Z"
   },
   {
    "duration": 37,
    "start_time": "2024-05-19T21:48:01.307Z"
   },
   {
    "duration": 665,
    "start_time": "2024-05-19T21:48:12.522Z"
   },
   {
    "duration": 7,
    "start_time": "2024-05-19T21:50:28.041Z"
   },
   {
    "duration": 27,
    "start_time": "2024-05-19T22:23:13.763Z"
   },
   {
    "duration": 28,
    "start_time": "2024-05-19T22:25:16.596Z"
   },
   {
    "duration": 1321,
    "start_time": "2024-05-20T00:39:34.163Z"
   },
   {
    "duration": 15,
    "start_time": "2024-05-20T00:39:35.488Z"
   },
   {
    "duration": 38,
    "start_time": "2024-05-20T00:39:35.506Z"
   },
   {
    "duration": 7,
    "start_time": "2024-05-20T00:39:35.551Z"
   },
   {
    "duration": 10,
    "start_time": "2024-05-20T00:39:35.562Z"
   },
   {
    "duration": 10,
    "start_time": "2024-05-20T00:39:35.575Z"
   },
   {
    "duration": 69,
    "start_time": "2024-05-20T00:39:35.588Z"
   },
   {
    "duration": 743,
    "start_time": "2024-05-20T00:39:35.662Z"
   },
   {
    "duration": 25,
    "start_time": "2024-05-20T00:39:36.409Z"
   },
   {
    "duration": 422,
    "start_time": "2024-05-20T00:39:46.920Z"
   },
   {
    "duration": 5,
    "start_time": "2024-05-20T00:41:16.814Z"
   },
   {
    "duration": 12,
    "start_time": "2024-05-20T00:41:18.958Z"
   },
   {
    "duration": 24,
    "start_time": "2024-05-20T00:41:19.385Z"
   },
   {
    "duration": 17,
    "start_time": "2024-05-20T00:44:30.899Z"
   },
   {
    "duration": 1217,
    "start_time": "2024-05-20T00:44:37.586Z"
   },
   {
    "duration": 16,
    "start_time": "2024-05-20T00:44:38.807Z"
   },
   {
    "duration": 25,
    "start_time": "2024-05-20T00:44:38.830Z"
   },
   {
    "duration": 9,
    "start_time": "2024-05-20T00:44:38.859Z"
   },
   {
    "duration": 9,
    "start_time": "2024-05-20T00:44:38.871Z"
   },
   {
    "duration": 10,
    "start_time": "2024-05-20T00:44:38.886Z"
   },
   {
    "duration": 31,
    "start_time": "2024-05-20T00:44:38.932Z"
   },
   {
    "duration": 724,
    "start_time": "2024-05-20T00:44:38.966Z"
   },
   {
    "duration": 10,
    "start_time": "2024-05-20T00:44:39.696Z"
   },
   {
    "duration": 696,
    "start_time": "2024-05-20T00:44:39.713Z"
   },
   {
    "duration": 637,
    "start_time": "2024-05-20T00:50:56.762Z"
   },
   {
    "duration": 457,
    "start_time": "2024-05-20T01:02:39.397Z"
   },
   {
    "duration": 1286,
    "start_time": "2024-05-20T01:03:16.662Z"
   },
   {
    "duration": 14,
    "start_time": "2024-05-20T01:03:17.953Z"
   },
   {
    "duration": 24,
    "start_time": "2024-05-20T01:03:17.971Z"
   },
   {
    "duration": 34,
    "start_time": "2024-05-20T01:03:17.998Z"
   },
   {
    "duration": 10,
    "start_time": "2024-05-20T01:03:18.037Z"
   },
   {
    "duration": 9,
    "start_time": "2024-05-20T01:03:18.050Z"
   },
   {
    "duration": 77,
    "start_time": "2024-05-20T01:03:18.062Z"
   },
   {
    "duration": 766,
    "start_time": "2024-05-20T01:03:18.142Z"
   },
   {
    "duration": 20,
    "start_time": "2024-05-20T01:03:18.913Z"
   },
   {
    "duration": 719,
    "start_time": "2024-05-20T01:03:18.936Z"
   },
   {
    "duration": 770,
    "start_time": "2024-05-20T01:06:12.544Z"
   },
   {
    "duration": 728,
    "start_time": "2024-05-20T01:10:19.175Z"
   },
   {
    "duration": 677,
    "start_time": "2024-05-20T01:17:14.263Z"
   },
   {
    "duration": 690,
    "start_time": "2024-05-20T01:17:28.885Z"
   },
   {
    "duration": 614,
    "start_time": "2024-05-20T01:22:40.786Z"
   },
   {
    "duration": 102,
    "start_time": "2024-05-20T01:23:03.457Z"
   },
   {
    "duration": 30,
    "start_time": "2024-05-20T01:23:39.269Z"
   },
   {
    "duration": 1180,
    "start_time": "2024-05-20T01:27:08.306Z"
   },
   {
    "duration": 12,
    "start_time": "2024-05-20T01:27:09.490Z"
   },
   {
    "duration": 33,
    "start_time": "2024-05-20T01:27:09.505Z"
   },
   {
    "duration": 5,
    "start_time": "2024-05-20T01:27:09.543Z"
   },
   {
    "duration": 8,
    "start_time": "2024-05-20T01:27:09.553Z"
   },
   {
    "duration": 8,
    "start_time": "2024-05-20T01:27:09.564Z"
   },
   {
    "duration": 73,
    "start_time": "2024-05-20T01:27:09.575Z"
   },
   {
    "duration": 870,
    "start_time": "2024-05-20T01:27:09.651Z"
   },
   {
    "duration": 9,
    "start_time": "2024-05-20T01:27:10.531Z"
   },
   {
    "duration": 4,
    "start_time": "2024-05-20T01:27:10.542Z"
   },
   {
    "duration": 711,
    "start_time": "2024-05-20T01:27:10.549Z"
   },
   {
    "duration": 9,
    "start_time": "2024-05-20T01:29:28.844Z"
   },
   {
    "duration": 1214,
    "start_time": "2024-05-20T01:30:53.600Z"
   },
   {
    "duration": 17,
    "start_time": "2024-05-20T01:30:54.818Z"
   },
   {
    "duration": 24,
    "start_time": "2024-05-20T01:30:54.838Z"
   },
   {
    "duration": 6,
    "start_time": "2024-05-20T01:30:54.865Z"
   },
   {
    "duration": 10,
    "start_time": "2024-05-20T01:30:54.876Z"
   },
   {
    "duration": 50,
    "start_time": "2024-05-20T01:30:54.888Z"
   },
   {
    "duration": 36,
    "start_time": "2024-05-20T01:30:54.942Z"
   },
   {
    "duration": 862,
    "start_time": "2024-05-20T01:30:54.982Z"
   },
   {
    "duration": 9,
    "start_time": "2024-05-20T01:30:55.847Z"
   },
   {
    "duration": 4,
    "start_time": "2024-05-20T01:30:55.859Z"
   },
   {
    "duration": 735,
    "start_time": "2024-05-20T01:30:55.866Z"
   },
   {
    "duration": 8,
    "start_time": "2024-05-20T01:31:19.196Z"
   },
   {
    "duration": 8,
    "start_time": "2024-05-20T01:31:37.811Z"
   },
   {
    "duration": 673,
    "start_time": "2024-05-20T01:34:14.648Z"
   },
   {
    "duration": 8,
    "start_time": "2024-05-20T01:34:51.165Z"
   },
   {
    "duration": 4,
    "start_time": "2024-05-20T01:44:16.830Z"
   },
   {
    "duration": 25,
    "start_time": "2024-05-20T01:45:53.564Z"
   },
   {
    "duration": 4,
    "start_time": "2024-05-20T01:46:08.293Z"
   },
   {
    "duration": 13,
    "start_time": "2024-05-20T01:46:08.768Z"
   },
   {
    "duration": 0,
    "start_time": "2024-05-20T02:02:59.646Z"
   },
   {
    "duration": 42352,
    "start_time": "2024-05-20T02:03:22.552Z"
   },
   {
    "duration": 84520,
    "start_time": "2024-05-20T02:05:44.315Z"
   },
   {
    "duration": 30,
    "start_time": "2024-05-20T02:08:20.372Z"
   },
   {
    "duration": 34,
    "start_time": "2024-05-20T02:10:21.380Z"
   },
   {
    "duration": 6,
    "start_time": "2024-05-20T02:11:00.721Z"
   },
   {
    "duration": 34,
    "start_time": "2024-05-20T02:11:09.266Z"
   },
   {
    "duration": 34,
    "start_time": "2024-05-20T02:11:39.254Z"
   },
   {
    "duration": 80,
    "start_time": "2024-05-20T02:13:12.030Z"
   },
   {
    "duration": 30,
    "start_time": "2024-05-20T02:14:37.259Z"
   },
   {
    "duration": 39,
    "start_time": "2024-05-20T02:18:35.312Z"
   },
   {
    "duration": 335,
    "start_time": "2024-05-20T02:20:07.395Z"
   },
   {
    "duration": 1090,
    "start_time": "2024-05-20T02:20:15.911Z"
   },
   {
    "duration": 2555,
    "start_time": "2024-05-20T02:20:23.107Z"
   },
   {
    "duration": 1082,
    "start_time": "2024-05-20T02:20:34.461Z"
   },
   {
    "duration": 27922,
    "start_time": "2024-05-20T02:22:19.036Z"
   },
   {
    "duration": 1139,
    "start_time": "2024-05-20T02:23:00.536Z"
   },
   {
    "duration": 1341,
    "start_time": "2024-05-20T02:25:17.003Z"
   },
   {
    "duration": 688,
    "start_time": "2024-05-20T02:35:24.685Z"
   },
   {
    "duration": 1323,
    "start_time": "2024-05-20T02:38:55.769Z"
   },
   {
    "duration": 705,
    "start_time": "2024-05-20T02:39:10.970Z"
   },
   {
    "duration": 183,
    "start_time": "2024-05-20T02:39:48.198Z"
   },
   {
    "duration": 326,
    "start_time": "2024-05-20T16:32:38.306Z"
   },
   {
    "duration": 1209,
    "start_time": "2024-05-20T16:33:32.285Z"
   },
   {
    "duration": 18,
    "start_time": "2024-05-20T16:33:33.498Z"
   },
   {
    "duration": 22,
    "start_time": "2024-05-20T16:33:33.520Z"
   },
   {
    "duration": 6,
    "start_time": "2024-05-20T16:33:33.545Z"
   },
   {
    "duration": 12,
    "start_time": "2024-05-20T16:33:33.558Z"
   },
   {
    "duration": 47,
    "start_time": "2024-05-20T16:33:33.573Z"
   },
   {
    "duration": 31,
    "start_time": "2024-05-20T16:33:33.623Z"
   },
   {
    "duration": 717,
    "start_time": "2024-05-20T16:33:33.657Z"
   },
   {
    "duration": 4,
    "start_time": "2024-05-20T16:33:34.377Z"
   },
   {
    "duration": 34,
    "start_time": "2024-05-20T16:33:34.384Z"
   },
   {
    "duration": 33,
    "start_time": "2024-05-20T16:33:34.421Z"
   },
   {
    "duration": 1344,
    "start_time": "2024-05-20T16:33:34.457Z"
   },
   {
    "duration": 195,
    "start_time": "2024-05-20T16:33:35.811Z"
   },
   {
    "duration": 616,
    "start_time": "2024-05-20T16:33:36.013Z"
   },
   {
    "duration": 146,
    "start_time": "2024-05-20T16:34:30.359Z"
   },
   {
    "duration": 5,
    "start_time": "2024-05-20T16:34:54.593Z"
   },
   {
    "duration": 1133,
    "start_time": "2024-05-20T16:34:59.457Z"
   },
   {
    "duration": 19,
    "start_time": "2024-05-20T16:35:00.594Z"
   },
   {
    "duration": 22,
    "start_time": "2024-05-20T16:35:00.615Z"
   },
   {
    "duration": 5,
    "start_time": "2024-05-20T16:35:00.641Z"
   },
   {
    "duration": 10,
    "start_time": "2024-05-20T16:35:00.653Z"
   },
   {
    "duration": 8,
    "start_time": "2024-05-20T16:35:00.666Z"
   },
   {
    "duration": 28,
    "start_time": "2024-05-20T16:35:00.714Z"
   },
   {
    "duration": 697,
    "start_time": "2024-05-20T16:35:00.745Z"
   },
   {
    "duration": 4,
    "start_time": "2024-05-20T16:35:01.445Z"
   },
   {
    "duration": 13,
    "start_time": "2024-05-20T16:35:01.452Z"
   },
   {
    "duration": 71,
    "start_time": "2024-05-20T16:35:01.468Z"
   },
   {
    "duration": 1328,
    "start_time": "2024-05-20T16:35:01.541Z"
   },
   {
    "duration": 221,
    "start_time": "2024-05-20T16:35:02.872Z"
   },
   {
    "duration": 121,
    "start_time": "2024-05-20T16:35:03.098Z"
   },
   {
    "duration": 1298,
    "start_time": "2024-05-20T16:41:35.033Z"
   },
   {
    "duration": 17,
    "start_time": "2024-05-20T16:41:36.335Z"
   },
   {
    "duration": 22,
    "start_time": "2024-05-20T16:41:36.355Z"
   },
   {
    "duration": 6,
    "start_time": "2024-05-20T16:41:36.381Z"
   },
   {
    "duration": 10,
    "start_time": "2024-05-20T16:41:36.413Z"
   },
   {
    "duration": 10,
    "start_time": "2024-05-20T16:41:36.426Z"
   },
   {
    "duration": 34,
    "start_time": "2024-05-20T16:41:36.439Z"
   },
   {
    "duration": 743,
    "start_time": "2024-05-20T16:41:36.476Z"
   },
   {
    "duration": 4,
    "start_time": "2024-05-20T16:41:37.222Z"
   },
   {
    "duration": 18,
    "start_time": "2024-05-20T16:41:37.229Z"
   },
   {
    "duration": 64,
    "start_time": "2024-05-20T16:41:37.250Z"
   },
   {
    "duration": 1423,
    "start_time": "2024-05-20T16:41:37.317Z"
   },
   {
    "duration": 219,
    "start_time": "2024-05-20T16:41:38.745Z"
   },
   {
    "duration": 118,
    "start_time": "2024-05-20T16:41:38.969Z"
   },
   {
    "duration": 10,
    "start_time": "2024-05-20T16:41:49.389Z"
   },
   {
    "duration": 9,
    "start_time": "2024-05-20T16:42:07.773Z"
   },
   {
    "duration": 1297,
    "start_time": "2024-05-20T16:57:52.502Z"
   },
   {
    "duration": 13,
    "start_time": "2024-05-20T16:57:53.804Z"
   },
   {
    "duration": 24,
    "start_time": "2024-05-20T16:57:53.820Z"
   },
   {
    "duration": 5,
    "start_time": "2024-05-20T16:57:53.846Z"
   },
   {
    "duration": 9,
    "start_time": "2024-05-20T16:57:53.855Z"
   },
   {
    "duration": 8,
    "start_time": "2024-05-20T16:57:53.867Z"
   },
   {
    "duration": 72,
    "start_time": "2024-05-20T16:57:53.878Z"
   },
   {
    "duration": 730,
    "start_time": "2024-05-20T16:57:53.954Z"
   },
   {
    "duration": 4,
    "start_time": "2024-05-20T16:57:54.687Z"
   },
   {
    "duration": 27,
    "start_time": "2024-05-20T16:57:54.693Z"
   },
   {
    "duration": 40,
    "start_time": "2024-05-20T16:57:54.722Z"
   },
   {
    "duration": 1388,
    "start_time": "2024-05-20T16:57:54.765Z"
   },
   {
    "duration": 211,
    "start_time": "2024-05-20T16:57:56.156Z"
   },
   {
    "duration": 127,
    "start_time": "2024-05-20T16:57:56.372Z"
   },
   {
    "duration": 14,
    "start_time": "2024-05-20T16:57:56.502Z"
   },
   {
    "duration": 1333,
    "start_time": "2024-06-03T16:16:54.937Z"
   },
   {
    "duration": 23,
    "start_time": "2024-06-03T16:16:56.273Z"
   },
   {
    "duration": 26,
    "start_time": "2024-06-03T16:16:56.299Z"
   },
   {
    "duration": 6,
    "start_time": "2024-06-03T16:16:56.335Z"
   },
   {
    "duration": 9,
    "start_time": "2024-06-03T16:16:56.345Z"
   },
   {
    "duration": 10,
    "start_time": "2024-06-03T16:16:56.356Z"
   },
   {
    "duration": 66,
    "start_time": "2024-06-03T16:16:56.369Z"
   },
   {
    "duration": 707,
    "start_time": "2024-06-03T16:16:56.437Z"
   },
   {
    "duration": 5,
    "start_time": "2024-06-03T16:16:57.148Z"
   },
   {
    "duration": 13,
    "start_time": "2024-06-03T16:16:57.161Z"
   },
   {
    "duration": 14,
    "start_time": "2024-06-03T16:16:57.177Z"
   },
   {
    "duration": 1407,
    "start_time": "2024-06-03T16:16:57.193Z"
   },
   {
    "duration": 201,
    "start_time": "2024-06-03T16:16:58.604Z"
   },
   {
    "duration": 127,
    "start_time": "2024-06-03T16:16:58.808Z"
   },
   {
    "duration": 11,
    "start_time": "2024-06-03T16:16:58.939Z"
   }
  ],
  "kernelspec": {
   "display_name": "Python 3 (ipykernel)",
   "language": "python",
   "name": "python3"
  },
  "language_info": {
   "codemirror_mode": {
    "name": "ipython",
    "version": 3
   },
   "file_extension": ".py",
   "mimetype": "text/x-python",
   "name": "python",
   "nbconvert_exporter": "python",
   "pygments_lexer": "ipython3",
   "version": "3.11.5"
  },
  "toc": {
   "base_numbering": 1,
   "nav_menu": {},
   "number_sections": true,
   "sideBar": true,
   "skip_h1_title": true,
   "title_cell": "Table of Contents",
   "title_sidebar": "Contents",
   "toc_cell": false,
   "toc_position": {
    "height": "calc(100% - 180px)",
    "left": "10px",
    "top": "150px",
    "width": "272px"
   },
   "toc_section_display": true,
   "toc_window_display": false
  }
 },
 "nbformat": 4,
 "nbformat_minor": 2
}
